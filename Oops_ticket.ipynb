{
 "cells": [
  {
   "cell_type": "markdown",
   "id": "749433d8",
   "metadata": {},
   "source": [
    "Write a class trsin which has methods to book a ticket,get status(no of seats)and get fare information of trains running under indian railways."
   ]
  },
  {
   "cell_type": "code",
   "execution_count": 3,
   "id": "c3fb6a6e",
   "metadata": {},
   "outputs": [
    {
     "name": "stdout",
     "output_type": "stream",
     "text": [
      "************\n",
      "The name of the train is Intercity Express: 14015\n",
      "The seats available in the train are 2\n",
      "************\n",
      "Your ticket has been booked! Your seat number is 2\n",
      "Your ticket has been booked! Your seat number is 1\n",
      "Sorry this train is full! Kindly try in tatkal\n",
      "************\n",
      "The name of the train is Intercity Express: 14015\n",
      "The seats available in the train are 0\n",
      "************\n"
     ]
    }
   ],
   "source": [
    "'''\n",
    "1 2 3 4 5 6 7 8 9 10\n",
    "'''\n",
    "\n",
    "class Train:\n",
    "    def __init__(self, name, fare, seats):\n",
    "        self.name = name\n",
    "        self.fare = fare\n",
    "        self.seats = seats\n",
    "\n",
    "    def getStatus(self):\n",
    "        print(\"************\")\n",
    "        print(f\"The name of the train is {self.name}\")\n",
    "        print(f\"The seats available in the train are {self.seats}\")\n",
    "        print(\"************\")\n",
    "\n",
    "    def fareInfo(self):\n",
    "        print(f\"The price of the ticket is: Rs {self.fare}\")\n",
    "\n",
    "    def bookTicket(self):\n",
    "        if(self.seats>0):\n",
    "            print(f\"Your ticket has been booked! Your seat number is {self.seats}\")\n",
    "            self.seats = self.seats - 1\n",
    "        else:\n",
    "            print(\"Sorry this train is full! Kindly try in tatkal\")\n",
    "\n",
    "    def cancelTicket(self, seatNo):\n",
    "        pass\n",
    "\n",
    "intercity = Train(\"Intercity Express: 14015\", 90, 2)\n",
    "intercity.getStatus() \n",
    "intercity.bookTicket()\n",
    "intercity.bookTicket()\n",
    "intercity.bookTicket()\n",
    "intercity.getStatus()\n"
   ]
  },
  {
   "cell_type": "code",
   "execution_count": null,
   "id": "7f8d523a",
   "metadata": {},
   "outputs": [],
   "source": []
  }
 ],
 "metadata": {
  "kernelspec": {
   "display_name": "Python 3 (ipykernel)",
   "language": "python",
   "name": "python3"
  },
  "language_info": {
   "codemirror_mode": {
    "name": "ipython",
    "version": 3
   },
   "file_extension": ".py",
   "mimetype": "text/x-python",
   "name": "python",
   "nbconvert_exporter": "python",
   "pygments_lexer": "ipython3",
   "version": "3.9.7"
  }
 },
 "nbformat": 4,
 "nbformat_minor": 5
}
